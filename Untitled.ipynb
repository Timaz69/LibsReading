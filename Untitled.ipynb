{
 "cells": [
  {
   "cell_type": "code",
   "execution_count": 2,
   "id": "0fde81bf",
   "metadata": {},
   "outputs": [],
   "source": [
    "# 0. Load keras package needed\n",
    "import os\n",
    "import cv2\n",
    "import numpy as np\n",
    "import tensorflow as tf\n",
    "import keras\n",
    "from keras.layers import Dense, Flatten,Dropout,LSTM,Input, Activation\n",
    "from keras.layers.wrappers import TimeDistributed\n",
    "from keras.layers.convolutional import Conv2D\n",
    "from keras.layers.convolutional import MaxPooling2D\n",
    "from keras.preprocessing.image import ImageDataGenerator\n",
    "from keras.utils import np_utils\n",
    "from IPython.display import SVG\n",
    "from keras import applications\n",
    "from keras import optimizers\n",
    "from keras.models import Sequential, Model,load_model\n",
    "from sklearn.model_selection import train_test_split\n",
    "# Fix random seed\n",
    "np.random.seed(3)"
   ]
  },
  {
   "cell_type": "code",
   "execution_count": null,
   "id": "04cb4ffa",
   "metadata": {
    "scrolled": true
   },
   "outputs": [],
   "source": [
    "!git clone https://github.com/okankop/vidaug"
   ]
  },
  {
   "cell_type": "code",
   "execution_count": 3,
   "id": "ba1614f4",
   "metadata": {},
   "outputs": [],
   "source": [
    "# Set hyper parameter and variables\n",
    "timesteps = 25\n",
    "batch_size = 2\n",
    "num_epochs = 25\n",
    "validation_ratio = 0.2\n",
    "val_steps = 10\n",
    "img_col = 128\n",
    "img_row = 128\n",
    "img_channel = 3\n",
    "n_labels = 10\n",
    "n_person = 4"
   ]
  },
  {
   "cell_type": "code",
   "execution_count": 3,
   "id": "1dd8d78d",
   "metadata": {},
   "outputs": [
    {
     "name": "stdout",
     "output_type": "stream",
     "text": [
      "Label 0: Nombre de dataset 14\n",
      "Label 1: Nombre de dataset 14\n",
      "Label 2: Nombre de dataset 14\n",
      "Label 3: Nombre de dataset 14\n",
      "Label 4: Nombre de dataset 14\n",
      "Label 5: Nombre de dataset 14\n",
      "Label 6: Nombre de dataset 14\n",
      "Label 7: Nombre de dataset 14\n",
      "Label 8: Nombre de dataset 14\n",
      "Label 9: Nombre de dataset 14\n",
      "Dataset shape is (140, 25, 128, 128, 3) (size,timestep,column,row,channel)\n",
      "Label shape is (140, 10) (size,label onehot vector)\n"
     ]
    }
   ],
   "source": [
    "#Load dataset\n",
    "Totalnb = 0\n",
    "label = []\n",
    "data = []\n",
    "for i in range(n_labels):\n",
    "    nb = 0\n",
    "    #Counting datasets ine each labels\n",
    "    for person in [2,4]:\n",
    "        file_nb = 0\n",
    "        for root, dirs, files in os.walk(r'C:\\Users\\Timaz\\Documents\\ECAM\\ETS\\MTI830-Forage de texte\\projet\\Dataset\\News\\S%d\\%d' %(i,person)):\n",
    "            for name in dirs:\n",
    "                nb = nb + 1\n",
    "            if files:\n",
    "                temp = []\n",
    "                for file in os.listdir(root):\n",
    "                    img = cv2.imread(root+'/'+file)\n",
    "                    res = cv2.resize(img,dsize=(img_col,img_row),interpolation=cv2.INTER_CUBIC)\n",
    "                    temp.append(res)\n",
    "                label.append(i)\n",
    "                data.append(temp)\n",
    "    print(f\"Label {i}: Nombre de dataset {nb}\" )\n",
    "    Totalnb = Totalnb + nb\n",
    "    #Read image, pop data and label inside list\n",
    "    \n",
    "Train_label = np.eye(n_labels)[label] #one-hot encoding by numpy array function\n",
    "Train_data = np.array(data)\n",
    "print(f\"Dataset shape is {Train_data.shape} (size,timestep,column,row,channel)\")\n",
    "print(f\"Label shape is {Train_label.shape} (size,label onehot vector)\")"
   ]
  },
  {
   "cell_type": "code",
   "execution_count": null,
   "id": "01f848a2",
   "metadata": {},
   "outputs": [],
   "source": [
    "#Training and validation\n",
    "Data = Train_data[0:Totalnb,:]\n",
    "Y = Train_label[0:Totalnb]"
   ]
  },
  {
   "cell_type": "code",
   "execution_count": null,
   "id": "9f4ee731",
   "metadata": {},
   "outputs": [],
   "source": [
    "from videoaugment import augmentors as va\n",
    "import matplotlib.pyplot as plt\n",
    "sometimes = lambda aug: va.Sometimes(1, aug) # Used to apply augmentor with 100% probability\n",
    "seq = va.Sequential([\n",
    "    va.RandomRotate(degrees=10), # randomly rotates the video with a degree randomly choosen from [-10, 10]  \n",
    "    sometimes(va.HorizontalFlip()) # horizontally flip the video with 50% probability\n",
    "])\n",
    "video_aug = []\n",
    "for i in range(len(Y)):\n",
    "    video_aug.append(seq(Data[i]))\n",
    "    \"\"\"%matplotlib inline\n",
    "    for img in video_aug:\n",
    "        plt.imshow(img,cmap='gray')\n",
    "        plt.show()\"\"\""
   ]
  },
  {
   "cell_type": "code",
   "execution_count": null,
   "id": "f03c7c45",
   "metadata": {},
   "outputs": [],
   "source": [
    "Data_aug = np.array(video_aug)\n",
    "print(Data_aug.shape)"
   ]
  },
  {
   "cell_type": "code",
   "execution_count": null,
   "id": "c96880eb",
   "metadata": {},
   "outputs": [],
   "source": [
    "from PIL import Image\n",
    "import os\n",
    "label = 0\n",
    "test = 0\n",
    "person = 3\n",
    "for seq in Data_aug:\n",
    "    if test%7 == 0 and test!=0:\n",
    "        if person ==3:\n",
    "            person = 4\n",
    "        else:\n",
    "            person = 3\n",
    "    if test%14 == 0 and test!=0:\n",
    "        label = label+1\n",
    "    num_img = 0\n",
    "    if not os.path.exists(r\"C:\\Users\\Timaz\\Documents\\ECAM\\ETS\\MTI830-Forage de texte\\projet\\Dataset\\News\\S%d\\%d\" %(label,person)):\n",
    "        os.mkdir(r\"C:\\Users\\Timaz\\Documents\\ECAM\\ETS\\MTI830-Forage de texte\\projet\\Dataset\\News\\S%d\\%d\" %(label,person))\n",
    "    if not os.path.exists(r\"C:\\Users\\Timaz\\Documents\\ECAM\\ETS\\MTI830-Forage de texte\\projet\\Dataset\\News\\S%d\\%d\\%d\" %(label,person,test%7)):\n",
    "        os.mkdir(r\"C:\\Users\\Timaz\\Documents\\ECAM\\ETS\\MTI830-Forage de texte\\projet\\Dataset\\News\\S%d\\%d\\%d\" %(label,person,test%7))\n",
    "    for img in seq:\n",
    "        img=img*255\n",
    "        img= img.astype(np.uint8)\n",
    "        img = Image.fromarray(img)\n",
    "        img.save(r\"C:\\Users\\Timaz\\Documents\\ECAM\\ETS\\MTI830-Forage de texte\\projet\\Dataset\\News\\S%d\\%d\\%d\\%d.jpg\" %(label,person,test%7,num_img))\n",
    "        num_img = num_img+1\n",
    "    test = test + 1"
   ]
  },
  {
   "cell_type": "code",
   "execution_count": 4,
   "id": "35e900cd",
   "metadata": {},
   "outputs": [],
   "source": [
    "#Shuffling dataset for input fit function\n",
    "X = np.arange(Train_label.shape[0])\n",
    "np.random.shuffle(X)\n",
    "#same order shuffle is needed\n",
    "Train_label = Train_label[X]\n",
    "Train_data = Train_data[X]\n",
    "#Training and validation\n",
    "Data = Train_data[0:Totalnb,:]\n",
    "Y = Train_label[0:Totalnb]"
   ]
  },
  {
   "cell_type": "code",
   "execution_count": 4,
   "id": "a27c3572",
   "metadata": {
    "scrolled": true
   },
   "outputs": [
    {
     "name": "stdout",
     "output_type": "stream",
     "text": [
      "WARNING:tensorflow:From C:\\Users\\Timaz\\Anaconda3\\envs\\Lipnet\\lib\\site-packages\\keras\\backend\\tensorflow_backend.py:74: The name tf.get_default_graph is deprecated. Please use tf.compat.v1.get_default_graph instead.\n",
      "\n",
      "WARNING:tensorflow:From C:\\Users\\Timaz\\Anaconda3\\envs\\Lipnet\\lib\\site-packages\\keras\\backend\\tensorflow_backend.py:517: The name tf.placeholder is deprecated. Please use tf.compat.v1.placeholder instead.\n",
      "\n",
      "WARNING:tensorflow:From C:\\Users\\Timaz\\Anaconda3\\envs\\Lipnet\\lib\\site-packages\\keras\\backend\\tensorflow_backend.py:4138: The name tf.random_uniform is deprecated. Please use tf.random.uniform instead.\n",
      "\n",
      "WARNING:tensorflow:From C:\\Users\\Timaz\\Anaconda3\\envs\\Lipnet\\lib\\site-packages\\keras\\backend\\tensorflow_backend.py:174: The name tf.get_default_session is deprecated. Please use tf.compat.v1.get_default_session instead.\n",
      "\n",
      "WARNING:tensorflow:From C:\\Users\\Timaz\\Anaconda3\\envs\\Lipnet\\lib\\site-packages\\keras\\backend\\tensorflow_backend.py:181: The name tf.ConfigProto is deprecated. Please use tf.compat.v1.ConfigProto instead.\n",
      "\n",
      "WARNING:tensorflow:From C:\\Users\\Timaz\\Anaconda3\\envs\\Lipnet\\lib\\site-packages\\keras\\backend\\tensorflow_backend.py:186: The name tf.Session is deprecated. Please use tf.compat.v1.Session instead.\n",
      "\n",
      "WARNING:tensorflow:From C:\\Users\\Timaz\\Anaconda3\\envs\\Lipnet\\lib\\site-packages\\keras\\backend\\tensorflow_backend.py:190: The name tf.global_variables is deprecated. Please use tf.compat.v1.global_variables instead.\n",
      "\n",
      "WARNING:tensorflow:From C:\\Users\\Timaz\\Anaconda3\\envs\\Lipnet\\lib\\site-packages\\keras\\backend\\tensorflow_backend.py:199: The name tf.is_variable_initialized is deprecated. Please use tf.compat.v1.is_variable_initialized instead.\n",
      "\n",
      "WARNING:tensorflow:From C:\\Users\\Timaz\\Anaconda3\\envs\\Lipnet\\lib\\site-packages\\keras\\backend\\tensorflow_backend.py:206: The name tf.variables_initializer is deprecated. Please use tf.compat.v1.variables_initializer instead.\n",
      "\n",
      "WARNING:tensorflow:From C:\\Users\\Timaz\\Anaconda3\\envs\\Lipnet\\lib\\site-packages\\keras\\backend\\tensorflow_backend.py:1834: The name tf.nn.fused_batch_norm is deprecated. Please use tf.compat.v1.nn.fused_batch_norm instead.\n",
      "\n",
      "WARNING:tensorflow:From C:\\Users\\Timaz\\Anaconda3\\envs\\Lipnet\\lib\\site-packages\\keras\\backend\\tensorflow_backend.py:133: The name tf.placeholder_with_default is deprecated. Please use tf.compat.v1.placeholder_with_default instead.\n",
      "\n",
      "WARNING:tensorflow:From C:\\Users\\Timaz\\Anaconda3\\envs\\Lipnet\\lib\\site-packages\\keras\\backend\\tensorflow_backend.py:3445: calling dropout (from tensorflow.python.ops.nn_ops) with keep_prob is deprecated and will be removed in a future version.\n",
      "Instructions for updating:\n",
      "Please use `rate` instead of `keep_prob`. Rate should be set to `rate = 1 - keep_prob`.\n"
     ]
    },
    {
     "name": "stderr",
     "output_type": "stream",
     "text": [
      "C:\\Users\\Timaz\\Anaconda3\\envs\\Lipnet\\lib\\site-packages\\ipykernel_launcher.py:12: UserWarning: Update your `Model` call to the Keras 2 API: `Model(inputs=Tensor(\"in..., outputs=Tensor(\"de...)`\n",
      "  if sys.path[0] == '':\n"
     ]
    },
    {
     "name": "stdout",
     "output_type": "stream",
     "text": [
      "WARNING:tensorflow:From C:\\Users\\Timaz\\Anaconda3\\envs\\Lipnet\\lib\\site-packages\\keras\\optimizers.py:790: The name tf.train.Optimizer is deprecated. Please use tf.compat.v1.train.Optimizer instead.\n",
      "\n",
      "WARNING:tensorflow:From C:\\Users\\Timaz\\Anaconda3\\envs\\Lipnet\\lib\\site-packages\\keras\\backend\\tensorflow_backend.py:3295: The name tf.log is deprecated. Please use tf.math.log instead.\n",
      "\n"
     ]
    }
   ],
   "source": [
    "video = Input(shape=(timesteps,img_col,img_row,img_channel))\n",
    "#Load model\n",
    "model = applications.MobileNetV2(input_shape=(img_col,img_row,img_channel),weights=\"imagenet\",include_top=False)\n",
    "model.trainable = False\n",
    "#FC Dense Layer\n",
    "x = model.output\n",
    "x=Flatten()(x)\n",
    "x = Dense(1024,activation=\"relu\")(x)\n",
    "x=Dropout(0.5)(x)\n",
    "cnn_out = Dense(128,activation=\"relu\")(x)\n",
    "#LSTM\n",
    "Lstm_inp = Model(input=model.input,output=cnn_out)\n",
    "encoded_frames = TimeDistributed(Lstm_inp)(video)\n",
    "encoded_sequence = LSTM(256)(encoded_frames)\n",
    "hidden_Drop = Dropout(0.5)(encoded_sequence)\n",
    "hidden_layer = Dense(128, activation=\"relu\")(encoded_sequence)\n",
    "outputs = Dense(n_labels,activation=\"sigmoid\")(hidden_layer)\n",
    "#Construction CNN+LSTM\n",
    "model = Model([video],outputs)\n",
    "#Model Compile\n",
    "adam = keras.optimizers.Adam(lr=0.0001,beta_1=0.9,beta_2=0.999,decay=0.0)\n",
    "model.compile(loss=\"categorical_crossentropy\",optimizer=adam,metrics=[\"accuracy\"])"
   ]
  },
  {
   "cell_type": "code",
   "execution_count": 6,
   "id": "7420d33f",
   "metadata": {},
   "outputs": [],
   "source": [
    "from keras.utils.vis_utils import plot_model\n",
    "plot_model(model, to_file='model_plot.png', show_shapes=True, show_layer_names=True)"
   ]
  },
  {
   "cell_type": "code",
   "execution_count": null,
   "id": "3f17f55b",
   "metadata": {},
   "outputs": [],
   "source": [
    "#Split dataset K-Fold\n",
    "from sklearn.model_selection import ShuffleSplit\n",
    "ss = ShuffleSplit(n_splits=3, test_size=0.2, random_state=0)\n",
    "for train_index, test_index in ss.split(X):\n",
    "    x_train, x_test, y_train, y_test = X[train_index],Y[train_index],X[test_index],Y[test_index]\n",
    "    "
   ]
  },
  {
   "cell_type": "code",
   "execution_count": 6,
   "id": "1b63cf7d",
   "metadata": {},
   "outputs": [],
   "source": [
    "x_train, x_test, y_train, y_test = train_test_split(Data,Y)"
   ]
  },
  {
   "cell_type": "code",
   "execution_count": 7,
   "id": "caec5abf",
   "metadata": {
    "scrolled": true
   },
   "outputs": [
    {
     "name": "stdout",
     "output_type": "stream",
     "text": [
      "WARNING:tensorflow:From C:\\Users\\Timaz\\Anaconda3\\envs\\Lipnet\\lib\\site-packages\\tensorflow_core\\python\\ops\\math_grad.py:1424: where (from tensorflow.python.ops.array_ops) is deprecated and will be removed in a future version.\n",
      "Instructions for updating:\n",
      "Use tf.where in 2.0, which has the same broadcast rule as np.where\n",
      "WARNING:tensorflow:From C:\\Users\\Timaz\\Anaconda3\\envs\\Lipnet\\lib\\site-packages\\keras\\backend\\tensorflow_backend.py:986: The name tf.assign_add is deprecated. Please use tf.compat.v1.assign_add instead.\n",
      "\n",
      "WARNING:tensorflow:From C:\\Users\\Timaz\\Anaconda3\\envs\\Lipnet\\lib\\site-packages\\keras\\backend\\tensorflow_backend.py:973: The name tf.assign is deprecated. Please use tf.compat.v1.assign instead.\n",
      "\n",
      "Train on 84 samples, validate on 21 samples\n",
      "Epoch 1/25\n",
      "84/84 [==============================] - 31s 373ms/step - loss: 2.3879 - acc: 0.0714 - val_loss: 2.3012 - val_acc: 0.1905\n",
      "Epoch 2/25\n",
      "84/84 [==============================] - 19s 230ms/step - loss: 2.3077 - acc: 0.1429 - val_loss: 2.3412 - val_acc: 0.0476\n",
      "Epoch 3/25\n",
      "84/84 [==============================] - 20s 238ms/step - loss: 2.2916 - acc: 0.0952 - val_loss: 2.4201 - val_acc: 0.0000e+00\n",
      "Epoch 4/25\n",
      "84/84 [==============================] - 20s 238ms/step - loss: 2.3002 - acc: 0.1429 - val_loss: 2.3456 - val_acc: 0.0476\n",
      "Epoch 5/25\n",
      "84/84 [==============================] - 20s 237ms/step - loss: 2.1919 - acc: 0.1548 - val_loss: 2.2871 - val_acc: 0.0476\n",
      "Epoch 6/25\n",
      "84/84 [==============================] - 20s 238ms/step - loss: 2.0751 - acc: 0.1667 - val_loss: 2.2002 - val_acc: 0.0952\n",
      "Epoch 7/25\n",
      "84/84 [==============================] - 20s 238ms/step - loss: 1.9681 - acc: 0.2738 - val_loss: 2.0731 - val_acc: 0.3333\n",
      "Epoch 8/25\n",
      "84/84 [==============================] - 20s 235ms/step - loss: 1.7840 - acc: 0.4643 - val_loss: 1.9468 - val_acc: 0.3333\n",
      "Epoch 9/25\n",
      "84/84 [==============================] - 20s 237ms/step - loss: 1.5363 - acc: 0.6786 - val_loss: 1.8529 - val_acc: 0.2857\n",
      "Epoch 10/25\n",
      "84/84 [==============================] - 20s 239ms/step - loss: 1.3196 - acc: 0.8452 - val_loss: 1.6629 - val_acc: 0.3810\n",
      "Epoch 11/25\n",
      "84/84 [==============================] - 20s 238ms/step - loss: 0.9893 - acc: 0.9167 - val_loss: 1.6224 - val_acc: 0.3810\n",
      "Epoch 12/25\n",
      "84/84 [==============================] - 20s 238ms/step - loss: 0.7409 - acc: 1.0000 - val_loss: 1.6135 - val_acc: 0.5238\n",
      "Epoch 13/25\n",
      "84/84 [==============================] - 20s 238ms/step - loss: 0.4500 - acc: 1.0000 - val_loss: 1.5184 - val_acc: 0.5238\n",
      "Epoch 14/25\n",
      "84/84 [==============================] - 20s 244ms/step - loss: 0.2436 - acc: 1.0000 - val_loss: 1.4124 - val_acc: 0.4762\n",
      "Epoch 15/25\n",
      "84/84 [==============================] - 20s 243ms/step - loss: 0.1506 - acc: 1.0000 - val_loss: 1.2995 - val_acc: 0.4762\n",
      "Epoch 16/25\n",
      "84/84 [==============================] - 20s 240ms/step - loss: 0.0976 - acc: 1.0000 - val_loss: 1.3269 - val_acc: 0.4762\n",
      "Epoch 17/25\n",
      "84/84 [==============================] - 20s 242ms/step - loss: 0.0723 - acc: 1.0000 - val_loss: 1.2176 - val_acc: 0.4762\n",
      "Epoch 18/25\n",
      "84/84 [==============================] - 20s 242ms/step - loss: 0.0578 - acc: 1.0000 - val_loss: 1.2678 - val_acc: 0.4762\n",
      "Epoch 19/25\n",
      "84/84 [==============================] - 20s 241ms/step - loss: 0.0474 - acc: 1.0000 - val_loss: 1.2874 - val_acc: 0.5238\n",
      "Epoch 20/25\n",
      "84/84 [==============================] - 20s 243ms/step - loss: 0.0394 - acc: 1.0000 - val_loss: 1.1996 - val_acc: 0.5238\n",
      "Epoch 21/25\n",
      "84/84 [==============================] - 20s 240ms/step - loss: 0.0337 - acc: 1.0000 - val_loss: 1.1983 - val_acc: 0.5238\n",
      "Epoch 22/25\n",
      "84/84 [==============================] - 20s 240ms/step - loss: 0.0289 - acc: 1.0000 - val_loss: 1.2173 - val_acc: 0.5238\n",
      "Epoch 23/25\n",
      "84/84 [==============================] - 21s 250ms/step - loss: 0.0254 - acc: 1.0000 - val_loss: 1.1952 - val_acc: 0.5238\n",
      "Epoch 24/25\n",
      "84/84 [==============================] - 21s 246ms/step - loss: 0.0222 - acc: 1.0000 - val_loss: 1.1494 - val_acc: 0.5238\n",
      "Epoch 25/25\n",
      "84/84 [==============================] - 21s 246ms/step - loss: 0.0199 - acc: 1.0000 - val_loss: 1.1377 - val_acc: 0.5238\n"
     ]
    }
   ],
   "source": [
    "hist = model.fit(x_train,y_train,batch_size=batch_size,validation_split=validation_ratio,shuffle=True,epochs = num_epochs)"
   ]
  },
  {
   "cell_type": "code",
   "execution_count": 10,
   "id": "033e0110",
   "metadata": {
    "scrolled": false
   },
   "outputs": [
    {
     "data": {
      "image/png": "[encoded data removed]",
      "text/plain": [
       "<Figure size 432x288 with 2 Axes>"
      ]
     },
     "metadata": {
      "needs_background": "light"
     },
     "output_type": "display_data"
    }
   ],
   "source": [
    "%matplotlib inline\n",
    "import matplotlib.pyplot as plt\n",
    "fig,loss_ax = plt.subplots()\n",
    "acc_ax = loss_ax.twinx()\n",
    "loss_ax.plot(hist.history['loss'],'y',label='train loss')\n",
    "loss_ax.plot(hist.history['val_loss'],'r',label='val loss')\n",
    "acc_ax.plot(hist.history['acc'],'b',label='train acc')\n",
    "acc_ax.plot(hist.history['val_acc'],'g',label='val acc')\n",
    "loss_ax.set_xlabel('epoch')\n",
    "loss_ax.set_ylabel('loss')\n",
    "acc_ax.set_ylabel('accuracy')\n",
    "loss_ax.legend(loc='upper left')\n",
    "acc_ax.legend(loc='lower left')\n",
    "plt.show()"
   ]
  },
  {
   "cell_type": "code",
   "execution_count": 10,
   "id": "b5ab5182",
   "metadata": {},
   "outputs": [],
   "source": [
    "model.save(r'C:\\Users\\Timaz\\Documents\\ECAM\\ETS\\MTI830-Forage de texte\\projet\\weights')"
   ]
  },
  {
   "cell_type": "code",
   "execution_count": 9,
   "id": "3e778da4",
   "metadata": {},
   "outputs": [
    {
     "name": "stdout",
     "output_type": "stream",
     "text": [
      "WARNING:tensorflow:From C:\\Users\\Timaz\\Anaconda3\\envs\\Lipnet\\lib\\site-packages\\tensorflow_core\\python\\ops\\math_grad.py:1424: where (from tensorflow.python.ops.array_ops) is deprecated and will be removed in a future version.\n",
      "Instructions for updating:\n",
      "Use tf.where in 2.0, which has the same broadcast rule as np.where\n",
      "WARNING:tensorflow:From C:\\Users\\Timaz\\Anaconda3\\envs\\Lipnet\\lib\\site-packages\\keras\\backend\\tensorflow_backend.py:986: The name tf.assign_add is deprecated. Please use tf.compat.v1.assign_add instead.\n",
      "\n",
      "WARNING:tensorflow:From C:\\Users\\Timaz\\Anaconda3\\envs\\Lipnet\\lib\\site-packages\\keras\\backend\\tensorflow_backend.py:973: The name tf.assign is deprecated. Please use tf.compat.v1.assign instead.\n",
      "\n"
     ]
    }
   ],
   "source": [
    "model = keras.models.load_model(r'C:\\Users\\Timaz\\Documents\\ECAM\\ETS\\MTI830-Forage de texte\\projet\\weights')"
   ]
  },
  {
   "cell_type": "code",
   "execution_count": 9,
   "id": "8d249002",
   "metadata": {},
   "outputs": [],
   "source": [
    "Y_pred = model.predict(x_test,batch_size=2)"
   ]
  },
  {
   "cell_type": "code",
   "execution_count": 11,
   "id": "93ed2e23",
   "metadata": {
    "scrolled": false
   },
   "outputs": [
    {
     "name": "stdout",
     "output_type": "stream",
     "text": [
      "[7 2 3 8 0 9 1 8 5 9 6 2 7 9 6 4 5 3 0 8 9 9 8 4 6 2 3 3 5 7 6 0 8 7 6]\n",
      "[8 2 3 0 0 9 1 4 5 9 7 2 4 9 5 4 5 3 7 7 9 9 7 4 6 3 4 3 4 7 5 7 9 8 5]\n",
      "              precision    recall  f1-score   support\n",
      "\n",
      "           0       0.50      0.33      0.40         3\n",
      "           1       1.00      1.00      1.00         1\n",
      "           2       1.00      0.67      0.80         3\n",
      "           3       0.75      0.75      0.75         4\n",
      "           4       0.33      1.00      0.50         2\n",
      "           5       0.40      0.67      0.50         3\n",
      "           6       1.00      0.20      0.33         5\n",
      "           7       0.17      0.25      0.20         4\n",
      "           8       0.00      0.00      0.00         5\n",
      "           9       0.83      1.00      0.91         5\n",
      "\n",
      "    accuracy                           0.51        35\n",
      "   macro avg       0.60      0.59      0.54        35\n",
      "weighted avg       0.58      0.51      0.49        35\n",
      "\n"
     ]
    }
   ],
   "source": [
    "from sklearn.metrics import classification_report\n",
    "import numpy as np\n",
    "#y_train = np.argmax(Y_train,axis=1)\n",
    "y_pred = np.argmax(Y_pred,axis=-1)\n",
    "Y_test = np.argmax(y_test,axis=-1)\n",
    "print(Y_test)\n",
    "print(y_pred)\n",
    "print(classification_report(Y_test,y_pred))"
   ]
  },
  {
   "cell_type": "code",
   "execution_count": 12,
   "id": "b967ce16",
   "metadata": {},
   "outputs": [
    {
     "data": {
      "image/png": "[encoded data removed]",
      "text/plain": [
       "<Figure size 432x288 with 2 Axes>"
      ]
     },
     "metadata": {
      "needs_background": "light"
     },
     "output_type": "display_data"
    }
   ],
   "source": [
    "from sklearn.model_selection import train_test_split\n",
    "from sklearn.metrics import confusion_matrix\n",
    "from sklearn.metrics import ConfusionMatrixDisplay\n",
    "cm = confusion_matrix(Y_test, y_pred)\n",
    "\n",
    "cm_display = ConfusionMatrixDisplay(cm).plot()"
   ]
  }
 ],
 "metadata": {
  "kernelspec": {
   "display_name": "Python 3",
   "language": "python",
   "name": "python3"
  },
  "language_info": {
   "codemirror_mode": {
    "name": "ipython",
    "version": 3
   },
   "file_extension": ".py",
   "mimetype": "text/x-python",
   "name": "python",
   "nbconvert_exporter": "python",
   "pygments_lexer": "ipython3",
   "version": "3.6.13"
  }
 },
 "nbformat": 4,
 "nbformat_minor": 5
}
